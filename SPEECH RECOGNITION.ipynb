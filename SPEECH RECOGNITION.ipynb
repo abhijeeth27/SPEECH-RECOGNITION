{
 "cells": [
  {
   "cell_type": "code",
   "execution_count": null,
   "id": "57238e49",
   "metadata": {},
   "outputs": [],
   "source": [
    "pip install SpeechRecognition"
   ]
  },
  {
   "cell_type": "code",
   "execution_count": null,
   "id": "598ec61d",
   "metadata": {},
   "outputs": [],
   "source": [
    "pip install pyttsx3"
   ]
  },
  {
   "cell_type": "code",
   "execution_count": null,
   "id": "0d59fd57",
   "metadata": {},
   "outputs": [],
   "source": [
    "pip install pywhatkit"
   ]
  },
  {
   "cell_type": "code",
   "execution_count": 5,
   "id": "70efd875",
   "metadata": {},
   "outputs": [],
   "source": [
    "import speech_recognition as sr\n",
    "import pyttsx3 as pt\n",
    "import pywhatkit as pk\n",
    "listening = sr.Recognizer()\n",
    "engine = pt.init('dummy')\n",
    "\n",
    "def speak(text):\n",
    "    engine.say(text)\n",
    "    engine.runAndWait()\n",
    "def hear():\n",
    "    try:\n",
    "        with sr.Microphone() as mic:\n",
    "            print('listening....')\n",
    "            voice = listening.listen(mic)\n",
    "            cmd = listening.recognize_google(voice)\n",
    "            cmd = cmd.lower()\n",
    "            if 'max' in cmd:\n",
    "                cmd = cmd.replace('max','')\n",
    "                print(cmd)\n",
    "    except:\n",
    "        pass\n",
    "    return cmd\n",
    "    def run():\n",
    "        cmd = hear()\n",
    "        print(cmd)\n",
    "        if 'play' in cmd:\n",
    "             song = cmd.replace('play', '')\n",
    "             speak('playing' + song)\n",
    "             pk.playonyt('Playing...' + song)\n",
    "        run()"
   ]
  },
  {
   "cell_type": "code",
   "execution_count": null,
   "id": "8b63e7cc",
   "metadata": {},
   "outputs": [],
   "source": []
  }
 ],
 "metadata": {
  "kernelspec": {
   "display_name": "Python 3 (ipykernel)",
   "language": "python",
   "name": "python3"
  },
  "language_info": {
   "codemirror_mode": {
    "name": "ipython",
    "version": 3
   },
   "file_extension": ".py",
   "mimetype": "text/x-python",
   "name": "python",
   "nbconvert_exporter": "python",
   "pygments_lexer": "ipython3",
   "version": "3.10.11"
  }
 },
 "nbformat": 4,
 "nbformat_minor": 5
}
